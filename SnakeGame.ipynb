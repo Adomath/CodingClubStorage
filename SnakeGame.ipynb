{
  "nbformat": 4,
  "nbformat_minor": 0,
  "metadata": {
    "colab": {
      "provenance": [],
      "authorship_tag": "ABX9TyPdknONJtrjTInmM4fN9TA+",
      "include_colab_link": true
    },
    "kernelspec": {
      "name": "python3",
      "display_name": "Python 3"
    },
    "language_info": {
      "name": "python"
    }
  },
  "cells": [
    {
      "cell_type": "markdown",
      "metadata": {
        "id": "view-in-github",
        "colab_type": "text"
      },
      "source": [
        "<a href=\"https://colab.research.google.com/github/Adomath/CodingClubStorage/blob/main/SnakeGame.ipynb\" target=\"_parent\"><img src=\"https://colab.research.google.com/assets/colab-badge.svg\" alt=\"Open In Colab\"/></a>"
      ]
    },
    {
      "cell_type": "code",
      "execution_count": null,
      "metadata": {
        "colab": {
          "base_uri": "https://localhost:8080/"
        },
        "id": "wD0jtbew8I4P",
        "outputId": "7e3aef8e-2697-4f9d-cbd7-002bd32980e6"
      },
      "outputs": [
        {
          "output_type": "stream",
          "name": "stdout",
          "text": [
            "pygame 2.5.2 (SDL 2.28.2, Python 3.10.12)\n",
            "Hello from the pygame community. https://www.pygame.org/contribute.html\n"
          ]
        }
      ],
      "source": [
        "import pygame\n",
        "import time\n",
        "import random"
      ]
    },
    {
      "cell_type": "code",
      "source": [
        "pygame.init()"
      ],
      "metadata": {
        "colab": {
          "base_uri": "https://localhost:8080/"
        },
        "id": "-E_pcYbm9rlv",
        "outputId": "ba9febdf-1d77-436b-aa7a-36f6d73524f6"
      },
      "execution_count": null,
      "outputs": [
        {
          "output_type": "execute_result",
          "data": {
            "text/plain": [
              "(4, 1)"
            ]
          },
          "metadata": {},
          "execution_count": 2
        }
      ]
    },
    {
      "cell_type": "code",
      "source": [
        "# Set up display\n",
        "width, height = 600, 400\n",
        "win = pygame.display.set_mode((width, height))\n",
        "pygame.display.set_caption('Snake Game')\n",
        "\n",
        "# Colors\n",
        "white = (255, 255, 255)\n",
        "black = (0, 0, 0)\n",
        "red = (213, 50, 80)\n",
        "green = (0, 255, 0)\n",
        "blue = (50, 153, 213)\n",
        "\n",
        "# Game settings\n",
        "snake_block = 10\n",
        "snake_speed = 15"
      ],
      "metadata": {
        "id": "NsO6j_mh9ws7"
      },
      "execution_count": null,
      "outputs": []
    },
    {
      "cell_type": "code",
      "source": [
        "clock = pygame.time.Clock()\n",
        "\n",
        "font_style = pygame.font.SysFont(None, 50)"
      ],
      "metadata": {
        "id": "zzqE83mz942r"
      },
      "execution_count": null,
      "outputs": []
    },
    {
      "cell_type": "code",
      "source": [
        "def our_snake(snake_block, snake_list):\n",
        "    for x in snake_list:\n",
        "        pygame.draw.rect(win, black, [x[0], x[1], snake_block, snake_block])\n",
        "\n",
        "def message(msg, color):\n",
        "    mesg = font_style.render(msg, True, color)\n",
        "    win.blit(mesg, [width / 6, height / 3])"
      ],
      "metadata": {
        "id": "x6y8JM3I99ZO"
      },
      "execution_count": null,
      "outputs": []
    },
    {
      "cell_type": "code",
      "source": [
        "def gameLoop():\n",
        "    game_over = False\n",
        "    game_close = False\n",
        "\n",
        "    x1 = width / 2\n",
        "    y1 = height / 2\n",
        "\n",
        "    x1_change = 0\n",
        "    y1_change = 0\n",
        "\n",
        "    snake_list = []\n",
        "    length_of_snake = 1\n",
        "\n",
        "    foodx = round(random.randrange(0, width - snake_block) / 10.0) * 10.0\n",
        "    foody = round(random.randrange(0, height - snake_block) / 10.0) * 10.0\n",
        "\n",
        "    while not game_over:\n",
        "\n",
        "        while game_close == True:\n",
        "            win.fill(blue)\n",
        "            message(\"You Lost! Press Q-Quit or C-Play Again\", red)\n",
        "            pygame.display.update()\n",
        "\n",
        "            for event in pygame.event.get():\n",
        "                if event.type == pygame.KEYDOWN:\n",
        "                    if event.key == pygame.K_q:\n",
        "                        game_over = True\n",
        "                        game_close = False\n",
        "                    if event.key == pygame.K_c:\n",
        "                        gameLoop()\n",
        "\n",
        "        for event in pygame.event.get():\n",
        "            if event.type == pygame.QUIT:\n",
        "                game_over = True\n",
        "            if event.type == pygame.KEYDOWN:\n",
        "                if event.key == pygame.K_LEFT:\n",
        "                    x1_change = -snake_block\n",
        "                    y1_change = 0\n",
        "                elif event.key == pygame.K_RIGHT:\n",
        "                    x1_change = snake_block\n",
        "                    y1_change = 0\n",
        "                elif event.key == pygame.K_UP:\n",
        "                    y1_change = -snake_block\n",
        "                    x1_change = 0\n",
        "                elif event.key == pygame.K_DOWN:\n",
        "                    y1_change = snake_block\n",
        "                    x1_change = 0\n",
        "\n",
        "        if x1 >= width or x1 < 0 or y1 >= height or y1 < 0:\n",
        "            game_close = True\n",
        "        x1 += x1_change\n",
        "        y1 += y1_change\n",
        "        win.fill(white)\n",
        "        pygame.draw.rect(win, green, [foodx, foody, snake_block, snake_block])\n",
        "        snake_head = []\n",
        "        snake_head.append(x1)\n",
        "        snake_head.append(y1)\n",
        "        snake_list.append(snake_head)\n",
        "        if len(snake_list) > length_of_snake:\n",
        "            del snake_list[0]\n",
        "\n",
        "        for x in snake_list[:-1]:\n",
        "            if x == snake_head:\n",
        "                game_close = True\n",
        "\n",
        "        our_snake(snake_block, snake_list)\n",
        "\n",
        "        pygame.display.update()\n",
        "\n",
        "        if x1 == foodx and y1 == foody:\n",
        "            foodx = round(random.randrange(0, width - snake_block) / 10.0) * 10.0\n",
        "            foody = round(random.randrange(0, height - snake_block) / 10.0) * 10.0\n",
        "            length_of_snake += 1\n",
        "\n",
        "        clock.tick(snake_speed)"
      ],
      "metadata": {
        "id": "CqtwGSDW-Dgc"
      },
      "execution_count": null,
      "outputs": []
    },
    {
      "cell_type": "code",
      "source": [
        "pygame.quit()\n",
        "quit()\n",
        "\n",
        "gameLoop()"
      ],
      "metadata": {
        "colab": {
          "base_uri": "https://localhost:8080/",
          "height": 323
        },
        "id": "LsTKS2K-A3Pc",
        "outputId": "bfa13c91-ca3a-4443-b3dd-e721b2001e2c"
      },
      "execution_count": null,
      "outputs": [
        {
          "output_type": "error",
          "ename": "error",
          "evalue": "video system not initialized",
          "traceback": [
            "\u001b[0;31m---------------------------------------------------------------------------\u001b[0m",
            "\u001b[0;31merror\u001b[0m                                     Traceback (most recent call last)",
            "\u001b[0;32m<ipython-input-10-53c1a4859add>\u001b[0m in \u001b[0;36m<cell line: 4>\u001b[0;34m()\u001b[0m\n\u001b[1;32m      2\u001b[0m \u001b[0mquit\u001b[0m\u001b[0;34m(\u001b[0m\u001b[0;34m)\u001b[0m\u001b[0;34m\u001b[0m\u001b[0;34m\u001b[0m\u001b[0m\n\u001b[1;32m      3\u001b[0m \u001b[0;34m\u001b[0m\u001b[0m\n\u001b[0;32m----> 4\u001b[0;31m \u001b[0mgameLoop\u001b[0m\u001b[0;34m(\u001b[0m\u001b[0;34m)\u001b[0m\u001b[0;34m\u001b[0m\u001b[0;34m\u001b[0m\u001b[0m\n\u001b[0m",
            "\u001b[0;32m<ipython-input-8-33acf1248a79>\u001b[0m in \u001b[0;36mgameLoop\u001b[0;34m()\u001b[0m\n\u001b[1;32m     30\u001b[0m                         \u001b[0mgameLoop\u001b[0m\u001b[0;34m(\u001b[0m\u001b[0;34m)\u001b[0m\u001b[0;34m\u001b[0m\u001b[0;34m\u001b[0m\u001b[0m\n\u001b[1;32m     31\u001b[0m \u001b[0;34m\u001b[0m\u001b[0m\n\u001b[0;32m---> 32\u001b[0;31m         \u001b[0;32mfor\u001b[0m \u001b[0mevent\u001b[0m \u001b[0;32min\u001b[0m \u001b[0mpygame\u001b[0m\u001b[0;34m.\u001b[0m\u001b[0mevent\u001b[0m\u001b[0;34m.\u001b[0m\u001b[0mget\u001b[0m\u001b[0;34m(\u001b[0m\u001b[0;34m)\u001b[0m\u001b[0;34m:\u001b[0m\u001b[0;34m\u001b[0m\u001b[0;34m\u001b[0m\u001b[0m\n\u001b[0m\u001b[1;32m     33\u001b[0m             \u001b[0;32mif\u001b[0m \u001b[0mevent\u001b[0m\u001b[0;34m.\u001b[0m\u001b[0mtype\u001b[0m \u001b[0;34m==\u001b[0m \u001b[0mpygame\u001b[0m\u001b[0;34m.\u001b[0m\u001b[0mQUIT\u001b[0m\u001b[0;34m:\u001b[0m\u001b[0;34m\u001b[0m\u001b[0;34m\u001b[0m\u001b[0m\n\u001b[1;32m     34\u001b[0m                 \u001b[0mgame_over\u001b[0m \u001b[0;34m=\u001b[0m \u001b[0;32mTrue\u001b[0m\u001b[0;34m\u001b[0m\u001b[0;34m\u001b[0m\u001b[0m\n",
            "\u001b[0;31merror\u001b[0m: video system not initialized"
          ]
        }
      ]
    }
  ]
}